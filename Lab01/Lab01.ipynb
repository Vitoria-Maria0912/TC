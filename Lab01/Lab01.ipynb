{
  "nbformat": 4,
  "nbformat_minor": 0,
  "metadata": {
    "colab": {
      "provenance": []
    },
    "kernelspec": {
      "name": "python3",
      "display_name": "Python 3"
    },
    "language_info": {
      "name": "python"
    }
  },
  "cells": [
    {
      "cell_type": "markdown",
      "source": [
        "## Instalação"
      ],
      "metadata": {
        "id": "giIFPGjaR6wD"
      }
    },
    {
      "cell_type": "code",
      "execution_count": 1,
      "metadata": {
        "colab": {
          "base_uri": "https://localhost:8080/"
        },
        "outputId": "f6466d9f-6fc6-488c-dddd-ae665b9d06ac",
        "id": "_bfEHdJZwo4Q"
      },
      "outputs": [
        {
          "output_type": "stream",
          "name": "stdout",
          "text": [
            "Reading package lists... Done\n",
            "Building dependency tree... Done\n",
            "Reading state information... Done\n",
            "pkg-config is already the newest version (0.29.2-1ubuntu3).\n",
            "graphviz is already the newest version (2.42.2-6).\n",
            "python3-dev is already the newest version (3.10.6-1~22.04).\n",
            "python3-dev set to manually installed.\n",
            "The following additional packages will be installed:\n",
            "  libgail-common libgail18 libgtk2.0-0 libgtk2.0-bin libgtk2.0-common libgvc6-plugins-gtk\n",
            "  librsvg2-common libxdot4\n",
            "Suggested packages:\n",
            "  gvfs\n",
            "The following NEW packages will be installed:\n",
            "  libgail-common libgail18 libgraphviz-dev libgtk2.0-0 libgtk2.0-bin libgtk2.0-common\n",
            "  libgvc6-plugins-gtk librsvg2-common libxdot4\n",
            "0 upgraded, 9 newly installed, 0 to remove and 35 not upgraded.\n",
            "Need to get 2,433 kB of archives.\n",
            "After this operation, 7,694 kB of additional disk space will be used.\n",
            "Get:1 http://archive.ubuntu.com/ubuntu jammy/main amd64 libgtk2.0-common all 2.24.33-2ubuntu2 [125 kB]\n",
            "Get:2 http://archive.ubuntu.com/ubuntu jammy/main amd64 libgtk2.0-0 amd64 2.24.33-2ubuntu2 [2,037 kB]\n",
            "Get:3 http://archive.ubuntu.com/ubuntu jammy/main amd64 libgail18 amd64 2.24.33-2ubuntu2 [15.9 kB]\n",
            "Get:4 http://archive.ubuntu.com/ubuntu jammy/main amd64 libgail-common amd64 2.24.33-2ubuntu2 [132 kB]\n",
            "Get:5 http://archive.ubuntu.com/ubuntu jammy/universe amd64 libxdot4 amd64 2.42.2-6 [16.4 kB]\n",
            "Get:6 http://archive.ubuntu.com/ubuntu jammy/universe amd64 libgvc6-plugins-gtk amd64 2.42.2-6 [22.6 kB]\n",
            "Get:7 http://archive.ubuntu.com/ubuntu jammy/universe amd64 libgraphviz-dev amd64 2.42.2-6 [58.5 kB]\n",
            "Get:8 http://archive.ubuntu.com/ubuntu jammy/main amd64 libgtk2.0-bin amd64 2.24.33-2ubuntu2 [7,932 B]\n",
            "Get:9 http://archive.ubuntu.com/ubuntu jammy-updates/main amd64 librsvg2-common amd64 2.52.5+dfsg-3ubuntu0.2 [17.7 kB]\n",
            "Fetched 2,433 kB in 1s (2,819 kB/s)\n",
            "Selecting previously unselected package libgtk2.0-common.\n",
            "(Reading database ... 121749 files and directories currently installed.)\n",
            "Preparing to unpack .../0-libgtk2.0-common_2.24.33-2ubuntu2_all.deb ...\n",
            "Unpacking libgtk2.0-common (2.24.33-2ubuntu2) ...\n",
            "Selecting previously unselected package libgtk2.0-0:amd64.\n",
            "Preparing to unpack .../1-libgtk2.0-0_2.24.33-2ubuntu2_amd64.deb ...\n",
            "Unpacking libgtk2.0-0:amd64 (2.24.33-2ubuntu2) ...\n",
            "Selecting previously unselected package libgail18:amd64.\n",
            "Preparing to unpack .../2-libgail18_2.24.33-2ubuntu2_amd64.deb ...\n",
            "Unpacking libgail18:amd64 (2.24.33-2ubuntu2) ...\n",
            "Selecting previously unselected package libgail-common:amd64.\n",
            "Preparing to unpack .../3-libgail-common_2.24.33-2ubuntu2_amd64.deb ...\n",
            "Unpacking libgail-common:amd64 (2.24.33-2ubuntu2) ...\n",
            "Selecting previously unselected package libxdot4:amd64.\n",
            "Preparing to unpack .../4-libxdot4_2.42.2-6_amd64.deb ...\n",
            "Unpacking libxdot4:amd64 (2.42.2-6) ...\n",
            "Selecting previously unselected package libgvc6-plugins-gtk.\n",
            "Preparing to unpack .../5-libgvc6-plugins-gtk_2.42.2-6_amd64.deb ...\n",
            "Unpacking libgvc6-plugins-gtk (2.42.2-6) ...\n",
            "Selecting previously unselected package libgraphviz-dev:amd64.\n",
            "Preparing to unpack .../6-libgraphviz-dev_2.42.2-6_amd64.deb ...\n",
            "Unpacking libgraphviz-dev:amd64 (2.42.2-6) ...\n",
            "Selecting previously unselected package libgtk2.0-bin.\n",
            "Preparing to unpack .../7-libgtk2.0-bin_2.24.33-2ubuntu2_amd64.deb ...\n",
            "Unpacking libgtk2.0-bin (2.24.33-2ubuntu2) ...\n",
            "Selecting previously unselected package librsvg2-common:amd64.\n",
            "Preparing to unpack .../8-librsvg2-common_2.52.5+dfsg-3ubuntu0.2_amd64.deb ...\n",
            "Unpacking librsvg2-common:amd64 (2.52.5+dfsg-3ubuntu0.2) ...\n",
            "Setting up libxdot4:amd64 (2.42.2-6) ...\n",
            "Setting up librsvg2-common:amd64 (2.52.5+dfsg-3ubuntu0.2) ...\n",
            "Setting up libgtk2.0-common (2.24.33-2ubuntu2) ...\n",
            "Setting up libgtk2.0-0:amd64 (2.24.33-2ubuntu2) ...\n",
            "Setting up libgvc6-plugins-gtk (2.42.2-6) ...\n",
            "Setting up libgail18:amd64 (2.24.33-2ubuntu2) ...\n",
            "Setting up libgtk2.0-bin (2.24.33-2ubuntu2) ...\n",
            "Setting up libgail-common:amd64 (2.24.33-2ubuntu2) ...\n",
            "Setting up libgraphviz-dev:amd64 (2.42.2-6) ...\n",
            "Processing triggers for libc-bin (2.35-0ubuntu3.4) ...\n",
            "/sbin/ldconfig.real: /usr/local/lib/libtbb.so.12 is not a symbolic link\n",
            "\n",
            "/sbin/ldconfig.real: /usr/local/lib/libtbbbind.so.3 is not a symbolic link\n",
            "\n",
            "/sbin/ldconfig.real: /usr/local/lib/libtbbbind_2_0.so.3 is not a symbolic link\n",
            "\n",
            "/sbin/ldconfig.real: /usr/local/lib/libtbbmalloc.so.2 is not a symbolic link\n",
            "\n",
            "/sbin/ldconfig.real: /usr/local/lib/libtbbmalloc_proxy.so.2 is not a symbolic link\n",
            "\n",
            "/sbin/ldconfig.real: /usr/local/lib/libtbbbind_2_5.so.3 is not a symbolic link\n",
            "\n",
            "Processing triggers for man-db (2.10.2-1) ...\n",
            "Processing triggers for libgdk-pixbuf-2.0-0:amd64 (2.42.8+dfsg-1ubuntu0.2) ...\n",
            "Collecting pygraphviz\n",
            "  Downloading pygraphviz-1.12.tar.gz (104 kB)\n",
            "\u001b[2K     \u001b[90m━━━━━━━━━━━━━━━━━━━━━━━━━━━━━━━━━━━━━━━━\u001b[0m \u001b[32m104.9/104.9 kB\u001b[0m \u001b[31m2.6 MB/s\u001b[0m eta \u001b[36m0:00:00\u001b[0m\n",
            "\u001b[?25h  Installing build dependencies ... \u001b[?25l\u001b[?25hdone\n",
            "  Getting requirements to build wheel ... \u001b[?25l\u001b[?25hdone\n",
            "  Installing backend dependencies ... \u001b[?25l\u001b[?25hdone\n",
            "  Preparing metadata (pyproject.toml) ... \u001b[?25l\u001b[?25hdone\n",
            "Building wheels for collected packages: pygraphviz\n",
            "  Building wheel for pygraphviz (pyproject.toml) ... \u001b[?25l\u001b[?25hdone\n",
            "  Created wheel for pygraphviz: filename=pygraphviz-1.12-cp310-cp310-linux_x86_64.whl size=168133 sha256=f43f41a5cdb587834b2ab6c9e27e22345b5eec75ea39599fac67835d5ac2df87\n",
            "  Stored in directory: /root/.cache/pip/wheels/1d/ee/b5/a2f54f9e9b3951599c05dcce270ca85e472f8e6cec470e397a\n",
            "Successfully built pygraphviz\n",
            "Installing collected packages: pygraphviz\n",
            "Successfully installed pygraphviz-1.12\n",
            "Collecting automata-lib[visual]\n",
            "  Downloading automata_lib-8.2.0-py3-none-any.whl (123 kB)\n",
            "\u001b[2K     \u001b[90m━━━━━━━━━━━━━━━━━━━━━━━━━━━━━━━━━━━━━━━━\u001b[0m \u001b[32m123.2/123.2 kB\u001b[0m \u001b[31m2.7 MB/s\u001b[0m eta \u001b[36m0:00:00\u001b[0m\n",
            "\u001b[?25hRequirement already satisfied: networkx>=2.6.2 in /usr/local/lib/python3.10/dist-packages (from automata-lib[visual]) (3.2.1)\n",
            "Requirement already satisfied: frozendict>=2.3.4 in /usr/local/lib/python3.10/dist-packages (from automata-lib[visual]) (2.4.0)\n",
            "Requirement already satisfied: typing-extensions>=4.5.0 in /usr/local/lib/python3.10/dist-packages (from automata-lib[visual]) (4.10.0)\n",
            "Collecting cached-method>=0.1.0 (from automata-lib[visual])\n",
            "  Downloading cached_method-0.1.0-py3-none-any.whl (4.2 kB)\n",
            "Collecting coloraide>=1.8.2 (from automata-lib[visual])\n",
            "  Downloading coloraide-3.1-py3-none-any.whl (249 kB)\n",
            "\u001b[2K     \u001b[90m━━━━━━━━━━━━━━━━━━━━━━━━━━━━━━━━━━━━━━━━\u001b[0m \u001b[32m249.2/249.2 kB\u001b[0m \u001b[31m8.9 MB/s\u001b[0m eta \u001b[36m0:00:00\u001b[0m\n",
            "\u001b[?25hRequirement already satisfied: pygraphviz>=1.10 in /usr/local/lib/python3.10/dist-packages (from automata-lib[visual]) (1.12)\n",
            "Installing collected packages: coloraide, cached-method, automata-lib\n",
            "Successfully installed automata-lib-8.2.0 cached-method-0.1.0 coloraide-3.1\n"
          ]
        }
      ],
      "source": [
        "# @title\n",
        "!apt install python3-dev graphviz libgraphviz-dev pkg-config\n",
        "!pip install pygraphviz\n",
        "!pip install automata-lib[visual]\n",
        "\n",
        "import sys\n",
        "def validate_string(cadeia,fa):\n",
        "  if not all(a in fa.input_symbols for a in cadeia):\n",
        "    print(\"Cadeia inválida\")\n",
        "    sys.exit(0)\n",
        "\n",
        "def print_rastreamento(gen,fa,cadeia):\n",
        "  try:\n",
        "    print(\"Rastreamento de todos os estados alcançados:\")\n",
        "    i = 0\n",
        "    atual = set(next(gen))\n",
        "    for g in gen:\n",
        "      novo = set(g)\n",
        "      print(f\"{chr(0x03B4)}({atual},{cadeia[i]}) -> {novo}\")\n",
        "      i+=1\n",
        "      atual = novo\n",
        "  except Exception:\n",
        "    print(\"\")"
      ]
    },
    {
      "cell_type": "markdown",
      "source": [
        "# Lab01"
      ],
      "metadata": {
        "id": "eWBq1Qem6INh"
      }
    },
    {
      "cell_type": "markdown",
      "source": [
        "## (01)\n",
        "\n",
        "Construa um DFA que reconhece a linguagem descrita por $(ab)^+$, onde $\\Sigma = \\{a,b\\}$."
      ],
      "metadata": {
        "id": "F8iJ74zuA1qz"
      }
    },
    {
      "cell_type": "code",
      "source": [
        "from automata.fa.dfa import DFA\n",
        "\n",
        "dfa01 = DFA(\n",
        "        states={'q0','q1','q2','qe'},\n",
        "        input_symbols={'a', 'b'},\n",
        "        transitions={\n",
        "            'q0': {'a': 'q1', 'b': 'qe'},\n",
        "            'q1': {'a': 'qe', 'b': 'q2'},\n",
        "            'q2': {'a': 'q1', 'b': 'qe'},\n",
        "            'qe': {'a': 'qe', 'b': 'qe'},\n",
        "        },\n",
        "        initial_state= 'q0',\n",
        "        final_states={'q2'}\n",
        ")\n",
        "dfa01.show_diagram()\n",
        "\n",
        "\n",
        "\n"
      ],
      "metadata": {
        "colab": {
          "base_uri": "https://localhost:8080/",
          "height": 173
        },
        "id": "Q6go02116TsQ",
        "outputId": "28aa2ecf-16b3-4a16-8cf4-1f64ff8a833c"
      },
      "execution_count": 2,
      "outputs": [
        {
          "output_type": "execute_result",
          "data": {
            "image/svg+xml": "<?xml version=\"1.0\" encoding=\"UTF-8\" standalone=\"no\"?>\n<!DOCTYPE svg PUBLIC \"-//W3C//DTD SVG 1.1//EN\"\n \"http://www.w3.org/Graphics/SVG/1.1/DTD/svg11.dtd\">\n<!-- Generated by graphviz version 2.43.0 (0)\n -->\n<!-- Pages: 1 -->\n<svg width=\"340pt\" height=\"114pt\"\n viewBox=\"0.00 0.00 340.44 114.35\" xmlns=\"http://www.w3.org/2000/svg\" xmlns:xlink=\"http://www.w3.org/1999/xlink\">\n<g id=\"graph0\" class=\"graph\" transform=\"scale(1 1) rotate(0) translate(4 110.35)\">\n<polygon fill=\"white\" stroke=\"transparent\" points=\"-4,4 -4,-110.35 336.44,-110.35 336.44,4 -4,4\"/>\n<!-- ff519407&#45;cf95&#45;424d&#45;a3b9&#45;852337aceb49 -->\n<g id=\"node1\" class=\"node\">\n<title>ff519407&#45;cf95&#45;424d&#45;a3b9&#45;852337aceb49</title>\n<g id=\"a_node1\"><a xlink:title=\".\">\n<ellipse fill=\"black\" stroke=\"black\" cx=\"1.8\" cy=\"-19.5\" rx=\"1.8\" ry=\"1.8\"/>\n</a>\n</g>\n</g>\n<!-- q0 -->\n<g id=\"node2\" class=\"node\">\n<title>q0</title>\n<ellipse fill=\"none\" stroke=\"black\" cx=\"60.1\" cy=\"-19.5\" rx=\"19.5\" ry=\"19.5\"/>\n<text text-anchor=\"middle\" x=\"60.1\" y=\"-15.8\" font-family=\"Times,serif\" font-size=\"14.00\">q0</text>\n</g>\n<!-- ff519407&#45;cf95&#45;424d&#45;a3b9&#45;852337aceb49&#45;&gt;q0 -->\n<g id=\"edge1\" class=\"edge\">\n<title>ff519407&#45;cf95&#45;424d&#45;a3b9&#45;852337aceb49&#45;&gt;q0</title>\n<g id=\"a_edge1\"><a xlink:title=\"&#45;&gt;q0\">\n<path fill=\"none\" stroke=\"black\" d=\"M3.78,-19.5C7.28,-19.5 19.64,-19.5 31.78,-19.5\"/>\n<polygon fill=\"black\" stroke=\"black\" points=\"31.96,-22.48 40.46,-19.5 31.96,-16.53 31.96,-22.48\"/>\n</a>\n</g>\n</g>\n<!-- q1 -->\n<g id=\"node3\" class=\"node\">\n<title>q1</title>\n<ellipse fill=\"none\" stroke=\"black\" cx=\"142.09\" cy=\"-66.5\" rx=\"19.5\" ry=\"19.5\"/>\n<text text-anchor=\"middle\" x=\"142.09\" y=\"-62.8\" font-family=\"Times,serif\" font-size=\"14.00\">q1</text>\n</g>\n<!-- q0&#45;&gt;q1 -->\n<g id=\"edge2\" class=\"edge\">\n<title>q0&#45;&gt;q1</title>\n<path fill=\"none\" stroke=\"black\" d=\"M77.29,-29.01C88.78,-35.76 104.4,-44.94 117.31,-52.52\"/>\n<polygon fill=\"black\" stroke=\"black\" points=\"116.09,-55.26 124.93,-57 119.11,-50.13 116.09,-55.26\"/>\n<text text-anchor=\"middle\" x=\"101.1\" y=\"-47.3\" font-family=\"Times,serif\" font-size=\"14.00\">a</text>\n</g>\n<!-- qe -->\n<g id=\"node4\" class=\"node\">\n<title>qe</title>\n<ellipse fill=\"none\" stroke=\"black\" cx=\"313.44\" cy=\"-54.5\" rx=\"19\" ry=\"19\"/>\n<text text-anchor=\"middle\" x=\"313.44\" y=\"-50.8\" font-family=\"Times,serif\" font-size=\"14.00\">qe</text>\n</g>\n<!-- q0&#45;&gt;qe -->\n<g id=\"edge3\" class=\"edge\">\n<title>q0&#45;&gt;qe</title>\n<path fill=\"none\" stroke=\"black\" d=\"M79.62,-16.9C114.13,-12.69 190.34,-6.37 251.59,-22.5 264.96,-26.02 278.7,-32.91 289.73,-39.4\"/>\n<polygon fill=\"black\" stroke=\"black\" points=\"288.43,-42.09 297.23,-44 291.54,-37.02 288.43,-42.09\"/>\n<text text-anchor=\"middle\" x=\"183.09\" y=\"-16.3\" font-family=\"Times,serif\" font-size=\"14.00\">b</text>\n</g>\n<!-- q1&#45;&gt;qe -->\n<g id=\"edge4\" class=\"edge\">\n<title>q1&#45;&gt;qe</title>\n<path fill=\"none\" stroke=\"black\" d=\"M160.14,-74.07C181.61,-82.61 219.59,-94.32 251.59,-86.5 265.02,-83.22 278.76,-76.35 289.78,-69.81\"/>\n<polygon fill=\"black\" stroke=\"black\" points=\"291.62,-72.18 297.28,-65.17 288.49,-67.12 291.62,-72.18\"/>\n<text text-anchor=\"middle\" x=\"228.09\" y=\"-92.3\" font-family=\"Times,serif\" font-size=\"14.00\">a</text>\n</g>\n<!-- q2 -->\n<g id=\"node5\" class=\"node\">\n<title>q2</title>\n<ellipse fill=\"none\" stroke=\"black\" cx=\"228.09\" cy=\"-54.5\" rx=\"23.5\" ry=\"23.5\"/>\n<ellipse fill=\"none\" stroke=\"black\" cx=\"228.09\" cy=\"-54.5\" rx=\"27.5\" ry=\"27.5\"/>\n<text text-anchor=\"middle\" x=\"228.09\" y=\"-50.8\" font-family=\"Times,serif\" font-size=\"14.00\">q2</text>\n</g>\n<!-- q1&#45;&gt;q2 -->\n<g id=\"edge5\" class=\"edge\">\n<title>q1&#45;&gt;q2</title>\n<path fill=\"none\" stroke=\"black\" d=\"M161.74,-63.84C171.83,-62.39 184.56,-60.58 196.09,-58.93\"/>\n<polygon fill=\"black\" stroke=\"black\" points=\"196.63,-61.86 204.62,-57.71 195.78,-55.97 196.63,-61.86\"/>\n<text text-anchor=\"middle\" x=\"183.09\" y=\"-64.3\" font-family=\"Times,serif\" font-size=\"14.00\">b</text>\n</g>\n<!-- qe&#45;&gt;qe -->\n<g id=\"edge6\" class=\"edge\">\n<title>qe&#45;&gt;qe</title>\n<path fill=\"none\" stroke=\"black\" d=\"M306.3,-72.32C304.96,-82.23 307.34,-91.35 313.44,-91.35 317.63,-91.35 320.06,-87.04 320.74,-81.12\"/>\n<polygon fill=\"black\" stroke=\"black\" points=\"323.71,-80.76 320.58,-72.32 317.76,-80.87 323.71,-80.76\"/>\n<text text-anchor=\"middle\" x=\"313.44\" y=\"-95.15\" font-family=\"Times,serif\" font-size=\"14.00\">a,b</text>\n</g>\n<!-- q2&#45;&gt;q1 -->\n<g id=\"edge7\" class=\"edge\">\n<title>q2&#45;&gt;q1</title>\n<path fill=\"none\" stroke=\"black\" d=\"M206.67,-43.75C198.25,-40.66 188.41,-38.77 179.59,-41.5 174.3,-43.14 169.09,-45.84 164.33,-48.88\"/>\n<polygon fill=\"black\" stroke=\"black\" points=\"162.54,-46.5 157.29,-53.82 165.96,-51.37 162.54,-46.5\"/>\n<text text-anchor=\"middle\" x=\"183.09\" y=\"-45.3\" font-family=\"Times,serif\" font-size=\"14.00\">a</text>\n</g>\n<!-- q2&#45;&gt;qe -->\n<g id=\"edge8\" class=\"edge\">\n<title>q2&#45;&gt;qe</title>\n<path fill=\"none\" stroke=\"black\" d=\"M251.87,-54.5C262.33,-54.5 274.82,-54.5 285.73,-54.5\"/>\n<polygon fill=\"black\" stroke=\"black\" points=\"285.94,-57.48 294.44,-54.5 285.94,-51.53 285.94,-57.48\"/>\n<text text-anchor=\"middle\" x=\"273.09\" y=\"-58.3\" font-family=\"Times,serif\" font-size=\"14.00\">b</text>\n</g>\n</g>\n</svg>\n",
            "text/plain": [
              "<AGraph <Swig Object of type 'Agraph_t *' at 0x7a8b7fee9d10>>"
            ]
          },
          "metadata": {},
          "execution_count": 2
        }
      ]
    },
    {
      "cell_type": "code",
      "source": [
        "# Aceita\n",
        "cadeia = 'ababab'\n",
        "dfa01.show_diagram(cadeia)"
      ],
      "metadata": {
        "id": "DnWAoomAOvQ1",
        "colab": {
          "base_uri": "https://localhost:8080/",
          "height": 303
        },
        "outputId": "6ae42e2c-3372-416d-d5a4-45482524d07b"
      },
      "execution_count": 52,
      "outputs": [
        {
          "output_type": "execute_result",
          "data": {
            "image/svg+xml": "<?xml version=\"1.0\" encoding=\"UTF-8\" standalone=\"no\"?>\n<!DOCTYPE svg PUBLIC \"-//W3C//DTD SVG 1.1//EN\"\n \"http://www.w3.org/Graphics/SVG/1.1/DTD/svg11.dtd\">\n<!-- Generated by graphviz version 2.43.0 (0)\n -->\n<!-- Pages: 1 -->\n<svg width=\"385pt\" height=\"211pt\"\n viewBox=\"0.00 0.00 385.44 210.50\" xmlns=\"http://www.w3.org/2000/svg\" xmlns:xlink=\"http://www.w3.org/1999/xlink\">\n<g id=\"graph0\" class=\"graph\" transform=\"scale(1 1) rotate(0) translate(4 206.5)\">\n<polygon fill=\"white\" stroke=\"transparent\" points=\"-4,4 -4,-206.5 381.44,-206.5 381.44,4 -4,4\"/>\n<!-- 8a0c99aa&#45;b28b&#45;4901&#45;8767&#45;631c643a536b -->\n<g id=\"node1\" class=\"node\">\n<title>8a0c99aa&#45;b28b&#45;4901&#45;8767&#45;631c643a536b</title>\n<g id=\"a_node1\"><a xlink:title=\".\">\n<ellipse fill=\"black\" stroke=\"black\" cx=\"1.8\" cy=\"-19.5\" rx=\"1.8\" ry=\"1.8\"/>\n</a>\n</g>\n</g>\n<!-- q0 -->\n<g id=\"node2\" class=\"node\">\n<title>q0</title>\n<ellipse fill=\"none\" stroke=\"black\" cx=\"60.1\" cy=\"-19.5\" rx=\"19.5\" ry=\"19.5\"/>\n<text text-anchor=\"middle\" x=\"60.1\" y=\"-15.8\" font-family=\"Times,serif\" font-size=\"14.00\">q0</text>\n</g>\n<!-- 8a0c99aa&#45;b28b&#45;4901&#45;8767&#45;631c643a536b&#45;&gt;q0 -->\n<g id=\"edge1\" class=\"edge\">\n<title>8a0c99aa&#45;b28b&#45;4901&#45;8767&#45;631c643a536b&#45;&gt;q0</title>\n<g id=\"a_edge1\"><a xlink:title=\"&#45;&gt;q0\">\n<path fill=\"none\" stroke=\"black\" d=\"M3.78,-19.5C7.28,-19.5 19.64,-19.5 31.78,-19.5\"/>\n<polygon fill=\"black\" stroke=\"black\" points=\"31.96,-22.48 40.46,-19.5 31.96,-16.53 31.96,-22.48\"/>\n</a>\n</g>\n</g>\n<!-- q1 -->\n<g id=\"node3\" class=\"node\">\n<title>q1</title>\n<ellipse fill=\"none\" stroke=\"black\" cx=\"164.09\" cy=\"-117.5\" rx=\"19.5\" ry=\"19.5\"/>\n<text text-anchor=\"middle\" x=\"164.09\" y=\"-113.8\" font-family=\"Times,serif\" font-size=\"14.00\">q1</text>\n</g>\n<!-- q0&#45;&gt;q1 -->\n<g id=\"edge2\" class=\"edge\">\n<title>q0&#45;&gt;q1</title>\n<path fill=\"none\" stroke=\"#d5ff00\" stroke-width=\"2.5\" d=\"M74.85,-32.72C92.52,-49.69 123.29,-79.25 143.42,-98.6\"/>\n<polygon fill=\"#d5ff00\" stroke=\"#d5ff00\" stroke-width=\"2.5\" points=\"141.37,-100.75 149.56,-104.49 145.49,-96.46 141.37,-100.75\"/>\n<text text-anchor=\"start\" x=\"97.6\" y=\"-84.3\" font-family=\"Times,serif\" font-size=\"14.00\">a </text>\n<text text-anchor=\"start\" x=\"107.6\" y=\"-84.3\" font-family=\"Times,serif\" font-weight=\"bold\" font-size=\"14.00\">[</text>\n<text text-anchor=\"start\" x=\"112.6\" y=\"-84.3\" font-family=\"Times,serif\" font-weight=\"bold\" font-style=\"italic\" font-size=\"14.00\">#1</text>\n</g>\n<!-- qe -->\n<g id=\"node4\" class=\"node\">\n<title>qe</title>\n<ellipse fill=\"none\" stroke=\"black\" cx=\"358.44\" cy=\"-117.5\" rx=\"19\" ry=\"19\"/>\n<text text-anchor=\"middle\" x=\"358.44\" y=\"-113.8\" font-family=\"Times,serif\" font-size=\"14.00\">qe</text>\n</g>\n<!-- q0&#45;&gt;qe -->\n<g id=\"edge3\" class=\"edge\">\n<title>q0&#45;&gt;qe</title>\n<path fill=\"none\" stroke=\"black\" d=\"M79.77,-20.64C111.68,-23.04 178.43,-29.99 231.59,-48.5 270.03,-61.88 310.64,-86.27 335.01,-102.18\"/>\n<polygon fill=\"black\" stroke=\"black\" points=\"333.6,-104.82 342.33,-107.02 336.88,-99.85 333.6,-104.82\"/>\n<text text-anchor=\"middle\" x=\"216.59\" y=\"-52.3\" font-family=\"Times,serif\" font-size=\"14.00\">b</text>\n</g>\n<!-- q1&#45;&gt;qe -->\n<g id=\"edge4\" class=\"edge\">\n<title>q1&#45;&gt;qe</title>\n<path fill=\"none\" stroke=\"black\" d=\"M168.28,-136.87C172.45,-155.26 181.71,-181.92 201.59,-194.5 212.86,-201.63 218.76,-198.11 231.59,-194.5 272.48,-182.98 313.21,-154.07 336.82,-135.14\"/>\n<polygon fill=\"black\" stroke=\"black\" points=\"338.88,-137.3 343.58,-129.61 335.12,-132.69 338.88,-137.3\"/>\n<text text-anchor=\"middle\" x=\"273.09\" y=\"-191.3\" font-family=\"Times,serif\" font-size=\"14.00\">a</text>\n</g>\n<!-- q2 -->\n<g id=\"node5\" class=\"node\">\n<title>q2</title>\n<ellipse fill=\"none\" stroke=\"black\" cx=\"273.09\" cy=\"-117.5\" rx=\"23.5\" ry=\"23.5\"/>\n<ellipse fill=\"none\" stroke=\"black\" cx=\"273.09\" cy=\"-117.5\" rx=\"27.5\" ry=\"27.5\"/>\n<text text-anchor=\"middle\" x=\"273.09\" y=\"-113.8\" font-family=\"Times,serif\" font-size=\"14.00\">q2</text>\n</g>\n<!-- q1&#45;&gt;q2 -->\n<g id=\"edge5\" class=\"edge\">\n<title>q1&#45;&gt;q2</title>\n<path fill=\"none\" stroke=\"#aaff00\" stroke-width=\"2.5\" d=\"M171.92,-135.6C177.72,-148.17 187.4,-163.96 201.59,-171.5 213.37,-177.75 219.67,-177.46 231.59,-171.5 242.53,-166.03 251.29,-156.04 257.82,-146.13\"/>\n<polygon fill=\"#aaff00\" stroke=\"#aaff00\" stroke-width=\"2.5\" points=\"260.5,-147.45 262.37,-138.64 255.41,-144.36 260.5,-147.45\"/>\n<text text-anchor=\"start\" x=\"201.59\" y=\"-180.3\" font-family=\"Times,serif\" font-size=\"14.00\">b </text>\n<text text-anchor=\"start\" x=\"212.59\" y=\"-180.3\" font-family=\"Times,serif\" font-weight=\"bold\" font-size=\"14.00\">[</text>\n<text text-anchor=\"start\" x=\"217.59\" y=\"-180.3\" font-family=\"Times,serif\" font-weight=\"bold\" font-style=\"italic\" font-size=\"14.00\">#2</text>\n</g>\n<!-- q1&#45;&gt;q2 -->\n<g id=\"edge6\" class=\"edge\">\n<title>q1&#45;&gt;q2</title>\n<path fill=\"none\" stroke=\"#55ff00\" stroke-width=\"2.5\" d=\"M181.69,-126.5C187.77,-129.33 194.82,-132.08 201.59,-133.5 214.64,-136.23 218.49,-135.99 231.59,-133.5 235.46,-132.76 239.42,-131.67 243.29,-130.38\"/>\n<polygon fill=\"#55ff00\" stroke=\"#55ff00\" stroke-width=\"2.5\" points=\"244.57,-133.08 251.52,-127.35 242.52,-127.5 244.57,-133.08\"/>\n<text text-anchor=\"start\" x=\"201.59\" y=\"-139.3\" font-family=\"Times,serif\" font-size=\"14.00\">b </text>\n<text text-anchor=\"start\" x=\"212.59\" y=\"-139.3\" font-family=\"Times,serif\" font-weight=\"bold\" font-size=\"14.00\">[</text>\n<text text-anchor=\"start\" x=\"217.59\" y=\"-139.3\" font-family=\"Times,serif\" font-weight=\"bold\" font-style=\"italic\" font-size=\"14.00\">#4</text>\n</g>\n<!-- q1&#45;&gt;q2 -->\n<g id=\"edge7\" class=\"edge\">\n<title>q1&#45;&gt;q2</title>\n<path fill=\"none\" stroke=\"#00ff00\" stroke-width=\"2.5\" d=\"M183.64,-115.68C189.39,-115.19 195.75,-114.74 201.59,-114.5 214.92,-113.95 218.27,-114.01 231.59,-114.5 234.57,-114.61 237.67,-114.76 240.77,-114.95\"/>\n<polygon fill=\"#00ff00\" stroke=\"#00ff00\" stroke-width=\"2.5\" points=\"240.72,-117.93 249.4,-115.52 241.11,-111.99 240.72,-117.93\"/>\n<text text-anchor=\"start\" x=\"201.59\" y=\"-119.3\" font-family=\"Times,serif\" font-size=\"14.00\">b </text>\n<text text-anchor=\"start\" x=\"212.59\" y=\"-119.3\" font-family=\"Times,serif\" font-weight=\"bold\" font-size=\"14.00\">[</text>\n<text text-anchor=\"start\" x=\"217.59\" y=\"-119.3\" font-family=\"Times,serif\" font-weight=\"bold\" font-style=\"italic\" font-size=\"14.00\">#6</text>\n</g>\n<!-- qe&#45;&gt;qe -->\n<g id=\"edge8\" class=\"edge\">\n<title>qe&#45;&gt;qe</title>\n<path fill=\"none\" stroke=\"black\" d=\"M351.3,-135.32C349.96,-145.22 352.34,-154.35 358.44,-154.35 362.63,-154.35 365.06,-150.03 365.74,-144.12\"/>\n<polygon fill=\"black\" stroke=\"black\" points=\"368.71,-143.77 365.58,-135.32 362.76,-143.87 368.71,-143.77\"/>\n<text text-anchor=\"middle\" x=\"358.44\" y=\"-158.15\" font-family=\"Times,serif\" font-size=\"14.00\">a,b</text>\n</g>\n<!-- q2&#45;&gt;q1 -->\n<g id=\"edge9\" class=\"edge\">\n<title>q2&#45;&gt;q1</title>\n<path fill=\"none\" stroke=\"#80ff00\" stroke-width=\"2.5\" d=\"M253.61,-104.34C246.98,-100.37 239.25,-96.52 231.59,-94.5 218.7,-91.09 214.4,-90.8 201.59,-94.5 196.61,-95.94 191.66,-98.28 187.08,-100.93\"/>\n<polygon fill=\"#80ff00\" stroke=\"#80ff00\" stroke-width=\"2.5\" points=\"185.36,-98.5 179.79,-105.58 188.56,-103.52 185.36,-98.5\"/>\n<text text-anchor=\"start\" x=\"202.09\" y=\"-99.3\" font-family=\"Times,serif\" font-size=\"14.00\">a </text>\n<text text-anchor=\"start\" x=\"212.09\" y=\"-99.3\" font-family=\"Times,serif\" font-weight=\"bold\" font-size=\"14.00\">[</text>\n<text text-anchor=\"start\" x=\"217.09\" y=\"-99.3\" font-family=\"Times,serif\" font-weight=\"bold\" font-style=\"italic\" font-size=\"14.00\">#3</text>\n</g>\n<!-- q2&#45;&gt;q1 -->\n<g id=\"edge10\" class=\"edge\">\n<title>q2&#45;&gt;q1</title>\n<path fill=\"none\" stroke=\"#2aff00\" stroke-width=\"2.5\" d=\"M260.05,-97.71C253.05,-88.18 243.31,-77.72 231.59,-72.5 219.41,-67.08 213.63,-66.77 201.59,-72.5 192.28,-76.94 184.57,-85.05 178.67,-93.17\"/>\n<polygon fill=\"#2aff00\" stroke=\"#2aff00\" stroke-width=\"2.5\" points=\"176,-91.81 173.77,-100.53 180.96,-95.11 176,-91.81\"/>\n<text text-anchor=\"start\" x=\"202.09\" y=\"-77.3\" font-family=\"Times,serif\" font-size=\"14.00\">a </text>\n<text text-anchor=\"start\" x=\"212.09\" y=\"-77.3\" font-family=\"Times,serif\" font-weight=\"bold\" font-size=\"14.00\">[</text>\n<text text-anchor=\"start\" x=\"217.09\" y=\"-77.3\" font-family=\"Times,serif\" font-weight=\"bold\" font-style=\"italic\" font-size=\"14.00\">#5</text>\n</g>\n<!-- q2&#45;&gt;qe -->\n<g id=\"edge11\" class=\"edge\">\n<title>q2&#45;&gt;qe</title>\n<path fill=\"none\" stroke=\"black\" d=\"M296.87,-117.5C307.33,-117.5 319.82,-117.5 330.73,-117.5\"/>\n<polygon fill=\"black\" stroke=\"black\" points=\"330.94,-120.48 339.44,-117.5 330.94,-114.53 330.94,-120.48\"/>\n<text text-anchor=\"middle\" x=\"318.09\" y=\"-121.3\" font-family=\"Times,serif\" font-size=\"14.00\">b</text>\n</g>\n</g>\n</svg>\n",
            "text/plain": [
              "<AGraph <Swig Object of type 'Agraph_t *' at 0x7a8bac0de1c0>>"
            ]
          },
          "metadata": {},
          "execution_count": 52
        }
      ]
    },
    {
      "cell_type": "code",
      "source": [
        "# Não aceita\n",
        "cadeia = 'aba'\n",
        "dfa01.show_diagram(cadeia)"
      ],
      "metadata": {
        "id": "ueN2o1Go-tYb",
        "colab": {
          "base_uri": "https://localhost:8080/",
          "height": 175
        },
        "outputId": "75422a44-2355-40bc-a615-51088ea6b484"
      },
      "execution_count": 56,
      "outputs": [
        {
          "output_type": "execute_result",
          "data": {
            "image/svg+xml": "<?xml version=\"1.0\" encoding=\"UTF-8\" standalone=\"no\"?>\n<!DOCTYPE svg PUBLIC \"-//W3C//DTD SVG 1.1//EN\"\n \"http://www.w3.org/Graphics/SVG/1.1/DTD/svg11.dtd\">\n<!-- Generated by graphviz version 2.43.0 (0)\n -->\n<!-- Pages: 1 -->\n<svg width=\"385pt\" height=\"115pt\"\n viewBox=\"0.00 0.00 385.44 114.50\" xmlns=\"http://www.w3.org/2000/svg\" xmlns:xlink=\"http://www.w3.org/1999/xlink\">\n<g id=\"graph0\" class=\"graph\" transform=\"scale(1 1) rotate(0) translate(4 110.5)\">\n<polygon fill=\"white\" stroke=\"transparent\" points=\"-4,4 -4,-110.5 381.44,-110.5 381.44,4 -4,4\"/>\n<!-- 87adf9fe&#45;ab39&#45;4eea&#45;97da&#45;d6ab86800928 -->\n<g id=\"node1\" class=\"node\">\n<title>87adf9fe&#45;ab39&#45;4eea&#45;97da&#45;d6ab86800928</title>\n<g id=\"a_node1\"><a xlink:title=\".\">\n<ellipse fill=\"black\" stroke=\"black\" cx=\"1.8\" cy=\"-19.5\" rx=\"1.8\" ry=\"1.8\"/>\n</a>\n</g>\n</g>\n<!-- q0 -->\n<g id=\"node2\" class=\"node\">\n<title>q0</title>\n<ellipse fill=\"none\" stroke=\"black\" cx=\"60.1\" cy=\"-19.5\" rx=\"19.5\" ry=\"19.5\"/>\n<text text-anchor=\"middle\" x=\"60.1\" y=\"-15.8\" font-family=\"Times,serif\" font-size=\"14.00\">q0</text>\n</g>\n<!-- 87adf9fe&#45;ab39&#45;4eea&#45;97da&#45;d6ab86800928&#45;&gt;q0 -->\n<g id=\"edge1\" class=\"edge\">\n<title>87adf9fe&#45;ab39&#45;4eea&#45;97da&#45;d6ab86800928&#45;&gt;q0</title>\n<g id=\"a_edge1\"><a xlink:title=\"&#45;&gt;q0\">\n<path fill=\"none\" stroke=\"black\" d=\"M3.78,-19.5C7.28,-19.5 19.64,-19.5 31.78,-19.5\"/>\n<polygon fill=\"black\" stroke=\"black\" points=\"31.96,-22.48 40.46,-19.5 31.96,-16.53 31.96,-22.48\"/>\n</a>\n</g>\n</g>\n<!-- q1 -->\n<g id=\"node3\" class=\"node\">\n<title>q1</title>\n<ellipse fill=\"none\" stroke=\"black\" cx=\"164.09\" cy=\"-66.5\" rx=\"19.5\" ry=\"19.5\"/>\n<text text-anchor=\"middle\" x=\"164.09\" y=\"-62.8\" font-family=\"Times,serif\" font-size=\"14.00\">q1</text>\n</g>\n<!-- q0&#45;&gt;q1 -->\n<g id=\"edge2\" class=\"edge\">\n<title>q0&#45;&gt;q1</title>\n<path fill=\"none\" stroke=\"#ffaa00\" stroke-width=\"2.5\" d=\"M78.4,-27.47C94.84,-35.05 119.73,-46.52 138.28,-55.06\"/>\n<polygon fill=\"#ffaa00\" stroke=\"#ffaa00\" stroke-width=\"2.5\" points=\"137.09,-57.79 146.05,-58.64 139.58,-52.39 137.09,-57.79\"/>\n<text text-anchor=\"start\" x=\"97.6\" y=\"-53.3\" font-family=\"Times,serif\" font-size=\"14.00\">a </text>\n<text text-anchor=\"start\" x=\"107.6\" y=\"-53.3\" font-family=\"Times,serif\" font-weight=\"bold\" font-size=\"14.00\">[</text>\n<text text-anchor=\"start\" x=\"112.6\" y=\"-53.3\" font-family=\"Times,serif\" font-weight=\"bold\" font-style=\"italic\" font-size=\"14.00\">#1</text>\n</g>\n<!-- qe -->\n<g id=\"node4\" class=\"node\">\n<title>qe</title>\n<ellipse fill=\"none\" stroke=\"black\" cx=\"358.44\" cy=\"-54.5\" rx=\"19\" ry=\"19\"/>\n<text text-anchor=\"middle\" x=\"358.44\" y=\"-50.8\" font-family=\"Times,serif\" font-size=\"14.00\">qe</text>\n</g>\n<!-- q0&#45;&gt;qe -->\n<g id=\"edge3\" class=\"edge\">\n<title>q0&#45;&gt;qe</title>\n<path fill=\"none\" stroke=\"black\" d=\"M79.57,-16.58C119.89,-10.87 218.43,-0.63 296.59,-22.5 309.91,-26.23 323.64,-33.14 334.68,-39.58\"/>\n<polygon fill=\"black\" stroke=\"black\" points=\"333.38,-42.27 342.19,-44.14 336.47,-37.19 333.38,-42.27\"/>\n<text text-anchor=\"middle\" x=\"216.59\" y=\"-14.3\" font-family=\"Times,serif\" font-size=\"14.00\">b</text>\n</g>\n<!-- q1&#45;&gt;qe -->\n<g id=\"edge4\" class=\"edge\">\n<title>q1&#45;&gt;qe</title>\n<path fill=\"none\" stroke=\"black\" d=\"M182.2,-74.71C188.21,-77.28 195.08,-79.86 201.59,-81.5 242.59,-91.83 255.52,-96.54 296.59,-86.5 310.02,-83.22 323.76,-76.35 334.78,-69.81\"/>\n<polygon fill=\"black\" stroke=\"black\" points=\"336.62,-72.18 342.28,-65.17 333.49,-67.12 336.62,-72.18\"/>\n<text text-anchor=\"middle\" x=\"273.09\" y=\"-95.3\" font-family=\"Times,serif\" font-size=\"14.00\">a</text>\n</g>\n<!-- q2 -->\n<g id=\"node5\" class=\"node\">\n<title>q2</title>\n<ellipse fill=\"none\" stroke=\"black\" cx=\"273.09\" cy=\"-54.5\" rx=\"23.5\" ry=\"23.5\"/>\n<ellipse fill=\"none\" stroke=\"black\" cx=\"273.09\" cy=\"-54.5\" rx=\"27.5\" ry=\"27.5\"/>\n<text text-anchor=\"middle\" x=\"273.09\" y=\"-50.8\" font-family=\"Times,serif\" font-size=\"14.00\">q2</text>\n</g>\n<!-- q1&#45;&gt;q2 -->\n<g id=\"edge5\" class=\"edge\">\n<title>q1&#45;&gt;q2</title>\n<path fill=\"none\" stroke=\"#ff5500\" stroke-width=\"2.5\" d=\"M183.74,-64.63C197.07,-63.27 215.45,-61.35 231.59,-59.5 234.57,-59.16 237.67,-58.8 240.76,-58.42\"/>\n<polygon fill=\"#ff5500\" stroke=\"#ff5500\" stroke-width=\"2.5\" points=\"241.32,-61.35 249.4,-57.38 240.6,-55.45 241.32,-61.35\"/>\n<text text-anchor=\"start\" x=\"201.59\" y=\"-67.3\" font-family=\"Times,serif\" font-size=\"14.00\">b </text>\n<text text-anchor=\"start\" x=\"212.59\" y=\"-67.3\" font-family=\"Times,serif\" font-weight=\"bold\" font-size=\"14.00\">[</text>\n<text text-anchor=\"start\" x=\"217.59\" y=\"-67.3\" font-family=\"Times,serif\" font-weight=\"bold\" font-style=\"italic\" font-size=\"14.00\">#2</text>\n</g>\n<!-- qe&#45;&gt;qe -->\n<g id=\"edge6\" class=\"edge\">\n<title>qe&#45;&gt;qe</title>\n<path fill=\"none\" stroke=\"black\" d=\"M351.3,-72.32C349.96,-82.23 352.34,-91.35 358.44,-91.35 362.63,-91.35 365.06,-87.04 365.74,-81.12\"/>\n<polygon fill=\"black\" stroke=\"black\" points=\"368.71,-80.76 365.58,-72.32 362.76,-80.87 368.71,-80.76\"/>\n<text text-anchor=\"middle\" x=\"358.44\" y=\"-95.15\" font-family=\"Times,serif\" font-size=\"14.00\">a,b</text>\n</g>\n<!-- q2&#45;&gt;q1 -->\n<g id=\"edge7\" class=\"edge\">\n<title>q2&#45;&gt;q1</title>\n<path fill=\"none\" stroke=\"#ff0000\" stroke-width=\"2.5\" d=\"M251.42,-44.98C237.2,-39.73 217.99,-35.26 201.59,-40.5 196.15,-42.24 190.82,-45.13 185.99,-48.36\"/>\n<polygon fill=\"#ff0000\" stroke=\"#ff0000\" stroke-width=\"2.5\" points=\"183.95,-46.16 178.87,-53.59 187.48,-50.95 183.95,-46.16\"/>\n<text text-anchor=\"start\" x=\"202.09\" y=\"-45.3\" font-family=\"Times,serif\" font-size=\"14.00\">a </text>\n<text text-anchor=\"start\" x=\"212.09\" y=\"-45.3\" font-family=\"Times,serif\" font-weight=\"bold\" font-size=\"14.00\">[</text>\n<text text-anchor=\"start\" x=\"217.09\" y=\"-45.3\" font-family=\"Times,serif\" font-weight=\"bold\" font-style=\"italic\" font-size=\"14.00\">#3</text>\n</g>\n<!-- q2&#45;&gt;qe -->\n<g id=\"edge8\" class=\"edge\">\n<title>q2&#45;&gt;qe</title>\n<path fill=\"none\" stroke=\"black\" d=\"M296.87,-54.5C307.33,-54.5 319.82,-54.5 330.73,-54.5\"/>\n<polygon fill=\"black\" stroke=\"black\" points=\"330.94,-57.48 339.44,-54.5 330.94,-51.53 330.94,-57.48\"/>\n<text text-anchor=\"middle\" x=\"318.09\" y=\"-58.3\" font-family=\"Times,serif\" font-size=\"14.00\">b</text>\n</g>\n</g>\n</svg>\n",
            "text/plain": [
              "<AGraph <Swig Object of type 'Agraph_t *' at 0x7a8b7f29b4e0>>"
            ]
          },
          "metadata": {},
          "execution_count": 56
        }
      ]
    },
    {
      "cell_type": "markdown",
      "source": [
        "## (02)\n",
        "\n",
        "Construa um NFA que reconhece a linguagem descrita por $(0^*1^*)|(1^*0^*)$."
      ],
      "metadata": {
        "id": "mg3TEum6dkB9"
      }
    },
    {
      "cell_type": "code",
      "source": [],
      "metadata": {
        "id": "WjMh7sO5KXX4"
      },
      "execution_count": 11,
      "outputs": []
    },
    {
      "cell_type": "code",
      "source": [
        "from automata.fa.nfa import NFA\n",
        "nfa01 = NFA(\n",
        "        states={'q0','q1','q2','q3','q4'},\n",
        "        input_symbols={'1', '0'},\n",
        "        transitions={\n",
        "            'q0': {'': {'q1','q3'}},\n",
        "            'q1': {'0': {'q1'}, '1': {'q2'}},\n",
        "            'q2': {'1': {'q2'}},\n",
        "            'q3': {'0': {'q4'}, '1': {'q3'}},\n",
        "            'q4': {'0': {'q4'}},\n",
        "        },\n",
        "        initial_state= 'q0',\n",
        "        final_states={'q2','q4'}\n",
        ")\n",
        "\n",
        "nfa01.show_diagram()"
      ],
      "metadata": {
        "id": "2ofYoBToDwwH",
        "colab": {
          "base_uri": "https://localhost:8080/",
          "height": 275
        },
        "outputId": "d9b14f4e-8372-415e-ff52-799ce132ca95"
      },
      "execution_count": 46,
      "outputs": [
        {
          "output_type": "execute_result",
          "data": {
            "image/svg+xml": "<?xml version=\"1.0\" encoding=\"UTF-8\" standalone=\"no\"?>\n<!DOCTYPE svg PUBLIC \"-//W3C//DTD SVG 1.1//EN\"\n \"http://www.w3.org/Graphics/SVG/1.1/DTD/svg11.dtd\">\n<!-- Generated by graphviz version 2.43.0 (0)\n -->\n<!-- Pages: 1 -->\n<svg width=\"264pt\" height=\"190pt\"\n viewBox=\"0.00 0.00 263.59 190.00\" xmlns=\"http://www.w3.org/2000/svg\" xmlns:xlink=\"http://www.w3.org/1999/xlink\">\n<g id=\"graph0\" class=\"graph\" transform=\"scale(1 1) rotate(0) translate(4 186)\">\n<polygon fill=\"white\" stroke=\"transparent\" points=\"-4,4 -4,-186 259.59,-186 259.59,4 -4,4\"/>\n<!-- 868df0b7&#45;c5b9&#45;4c87&#45;91e0&#45;b6ecc7d221d7 -->\n<g id=\"node1\" class=\"node\">\n<title>868df0b7&#45;c5b9&#45;4c87&#45;91e0&#45;b6ecc7d221d7</title>\n<g id=\"a_node1\"><a xlink:title=\".\">\n<ellipse fill=\"black\" stroke=\"black\" cx=\"1.8\" cy=\"-78.5\" rx=\"1.8\" ry=\"1.8\"/>\n</a>\n</g>\n</g>\n<!-- q0 -->\n<g id=\"node2\" class=\"node\">\n<title>q0</title>\n<ellipse fill=\"none\" stroke=\"black\" cx=\"60.1\" cy=\"-78.5\" rx=\"19.5\" ry=\"19.5\"/>\n<text text-anchor=\"middle\" x=\"60.1\" y=\"-74.8\" font-family=\"Times,serif\" font-size=\"14.00\">q0</text>\n</g>\n<!-- 868df0b7&#45;c5b9&#45;4c87&#45;91e0&#45;b6ecc7d221d7&#45;&gt;q0 -->\n<g id=\"edge1\" class=\"edge\">\n<title>868df0b7&#45;c5b9&#45;4c87&#45;91e0&#45;b6ecc7d221d7&#45;&gt;q0</title>\n<g id=\"a_edge1\"><a xlink:title=\"&#45;&gt;q0\">\n<path fill=\"none\" stroke=\"black\" d=\"M3.78,-78.5C7.28,-78.5 19.64,-78.5 31.78,-78.5\"/>\n<polygon fill=\"black\" stroke=\"black\" points=\"31.96,-81.48 40.46,-78.5 31.96,-75.53 31.96,-81.48\"/>\n</a>\n</g>\n</g>\n<!-- q3 -->\n<g id=\"node3\" class=\"node\">\n<title>q3</title>\n<ellipse fill=\"none\" stroke=\"black\" cx=\"142.09\" cy=\"-124.5\" rx=\"19.5\" ry=\"19.5\"/>\n<text text-anchor=\"middle\" x=\"142.09\" y=\"-120.8\" font-family=\"Times,serif\" font-size=\"14.00\">q3</text>\n</g>\n<!-- q0&#45;&gt;q3 -->\n<g id=\"edge2\" class=\"edge\">\n<title>q0&#45;&gt;q3</title>\n<path fill=\"none\" stroke=\"black\" d=\"M77.29,-87.81C88.78,-94.42 104.4,-103.4 117.31,-110.82\"/>\n<polygon fill=\"black\" stroke=\"black\" points=\"116.08,-113.55 124.93,-115.2 119.04,-108.39 116.08,-113.55\"/>\n<text text-anchor=\"middle\" x=\"101.1\" y=\"-106.3\" font-family=\"Times,serif\" font-size=\"14.00\">ε</text>\n</g>\n<!-- q1 -->\n<g id=\"node4\" class=\"node\">\n<title>q1</title>\n<ellipse fill=\"none\" stroke=\"black\" cx=\"142.09\" cy=\"-33.5\" rx=\"19.5\" ry=\"19.5\"/>\n<text text-anchor=\"middle\" x=\"142.09\" y=\"-29.8\" font-family=\"Times,serif\" font-size=\"14.00\">q1</text>\n</g>\n<!-- q0&#45;&gt;q1 -->\n<g id=\"edge3\" class=\"edge\">\n<title>q0&#45;&gt;q1</title>\n<path fill=\"none\" stroke=\"black\" d=\"M77.67,-69.18C89.12,-62.74 104.52,-54.08 117.27,-46.9\"/>\n<polygon fill=\"black\" stroke=\"black\" points=\"118.86,-49.42 124.81,-42.66 115.94,-44.23 118.86,-49.42\"/>\n<text text-anchor=\"middle\" x=\"101.1\" y=\"-61.3\" font-family=\"Times,serif\" font-size=\"14.00\">ε</text>\n</g>\n<!-- q3&#45;&gt;q3 -->\n<g id=\"edge4\" class=\"edge\">\n<title>q3&#45;&gt;q3</title>\n<path fill=\"none\" stroke=\"black\" d=\"M134.9,-143.02C133.68,-152.95 136.08,-162 142.09,-162 146.23,-162 148.66,-157.72 149.37,-151.82\"/>\n<polygon fill=\"black\" stroke=\"black\" points=\"152.34,-151.49 149.29,-143.02 146.39,-151.55 152.34,-151.49\"/>\n<text text-anchor=\"middle\" x=\"142.09\" y=\"-165.8\" font-family=\"Times,serif\" font-size=\"14.00\">1</text>\n</g>\n<!-- q4 -->\n<g id=\"node5\" class=\"node\">\n<title>q4</title>\n<ellipse fill=\"none\" stroke=\"black\" cx=\"228.09\" cy=\"-125.5\" rx=\"23.5\" ry=\"23.5\"/>\n<ellipse fill=\"none\" stroke=\"black\" cx=\"228.09\" cy=\"-125.5\" rx=\"27.5\" ry=\"27.5\"/>\n<text text-anchor=\"middle\" x=\"228.09\" y=\"-121.8\" font-family=\"Times,serif\" font-size=\"14.00\">q4</text>\n</g>\n<!-- q3&#45;&gt;q4 -->\n<g id=\"edge5\" class=\"edge\">\n<title>q3&#45;&gt;q4</title>\n<path fill=\"none\" stroke=\"black\" d=\"M161.74,-124.72C171.65,-124.84 184.11,-124.99 195.49,-125.12\"/>\n<polygon fill=\"black\" stroke=\"black\" points=\"195.77,-128.1 204.31,-125.23 195.85,-122.15 195.77,-128.1\"/>\n<text text-anchor=\"middle\" x=\"183.09\" y=\"-128.3\" font-family=\"Times,serif\" font-size=\"14.00\">0</text>\n</g>\n<!-- q1&#45;&gt;q1 -->\n<g id=\"edge6\" class=\"edge\">\n<title>q1&#45;&gt;q1</title>\n<path fill=\"none\" stroke=\"black\" d=\"M134.9,-52.02C133.68,-61.95 136.08,-71 142.09,-71 146.23,-71 148.66,-66.72 149.37,-60.82\"/>\n<polygon fill=\"black\" stroke=\"black\" points=\"152.34,-60.49 149.29,-52.02 146.39,-60.55 152.34,-60.49\"/>\n<text text-anchor=\"middle\" x=\"142.09\" y=\"-74.8\" font-family=\"Times,serif\" font-size=\"14.00\">0</text>\n</g>\n<!-- q2 -->\n<g id=\"node6\" class=\"node\">\n<title>q2</title>\n<ellipse fill=\"none\" stroke=\"black\" cx=\"228.09\" cy=\"-27.5\" rx=\"23.5\" ry=\"23.5\"/>\n<ellipse fill=\"none\" stroke=\"black\" cx=\"228.09\" cy=\"-27.5\" rx=\"27.5\" ry=\"27.5\"/>\n<text text-anchor=\"middle\" x=\"228.09\" y=\"-23.8\" font-family=\"Times,serif\" font-size=\"14.00\">q2</text>\n</g>\n<!-- q1&#45;&gt;q2 -->\n<g id=\"edge7\" class=\"edge\">\n<title>q1&#45;&gt;q2</title>\n<path fill=\"none\" stroke=\"black\" d=\"M161.74,-32.17C171.83,-31.45 184.56,-30.54 196.09,-29.72\"/>\n<polygon fill=\"black\" stroke=\"black\" points=\"196.35,-32.68 204.62,-29.11 195.93,-26.74 196.35,-32.68\"/>\n<text text-anchor=\"middle\" x=\"183.09\" y=\"-35.3\" font-family=\"Times,serif\" font-size=\"14.00\">1</text>\n</g>\n<!-- q4&#45;&gt;q4 -->\n<g id=\"edge8\" class=\"edge\">\n<title>q4&#45;&gt;q4</title>\n<path fill=\"none\" stroke=\"black\" d=\"M220,-147.7C219.12,-158 221.82,-167 228.09,-167 232.5,-167 235.14,-162.55 236.02,-156.33\"/>\n<polygon fill=\"black\" stroke=\"black\" points=\"239,-156.26 236.18,-147.7 233.05,-156.15 239,-156.26\"/>\n<text text-anchor=\"middle\" x=\"228.09\" y=\"-170.8\" font-family=\"Times,serif\" font-size=\"14.00\">0</text>\n</g>\n<!-- q2&#45;&gt;q2 -->\n<g id=\"edge9\" class=\"edge\">\n<title>q2&#45;&gt;q2</title>\n<path fill=\"none\" stroke=\"black\" d=\"M220,-49.7C219.12,-60 221.82,-69 228.09,-69 232.5,-69 235.14,-64.55 236.02,-58.33\"/>\n<polygon fill=\"black\" stroke=\"black\" points=\"239,-58.25 236.18,-49.7 233.05,-58.14 239,-58.25\"/>\n<text text-anchor=\"middle\" x=\"228.09\" y=\"-72.8\" font-family=\"Times,serif\" font-size=\"14.00\">1</text>\n</g>\n</g>\n</svg>\n",
            "text/plain": [
              "<AGraph <Swig Object of type 'Agraph_t *' at 0x7a8bac2241e0>>"
            ]
          },
          "metadata": {},
          "execution_count": 46
        }
      ]
    },
    {
      "cell_type": "code",
      "source": [
        "# Aceita\n",
        "cadeia='110'\n",
        "gen = nfa01.read_input_stepwise(cadeia)\n",
        "print_rastreamento(gen,nfa01,cadeia)\n",
        "nfa01.show_diagram(cadeia)"
      ],
      "metadata": {
        "id": "x7R1n6dg_MJG",
        "colab": {
          "base_uri": "https://localhost:8080/",
          "height": 361
        },
        "outputId": "f04ee013-1db7-4857-fe56-7d0c0cfa3f3e"
      },
      "execution_count": 50,
      "outputs": [
        {
          "output_type": "stream",
          "name": "stdout",
          "text": [
            "Rastreamento de todos os estados alcançados:\n",
            "δ({'q3', 'q1', 'q0'},1) -> {'q2', 'q3'}\n",
            "δ({'q2', 'q3'},1) -> {'q3', 'q2'}\n",
            "δ({'q3', 'q2'},0) -> {'q4'}\n"
          ]
        },
        {
          "output_type": "execute_result",
          "data": {
            "image/svg+xml": "<?xml version=\"1.0\" encoding=\"UTF-8\" standalone=\"no\"?>\n<!DOCTYPE svg PUBLIC \"-//W3C//DTD SVG 1.1//EN\"\n \"http://www.w3.org/Graphics/SVG/1.1/DTD/svg11.dtd\">\n<!-- Generated by graphviz version 2.43.0 (0)\n -->\n<!-- Pages: 1 -->\n<svg width=\"309pt\" height=\"203pt\"\n viewBox=\"0.00 0.00 308.59 203.00\" xmlns=\"http://www.w3.org/2000/svg\" xmlns:xlink=\"http://www.w3.org/1999/xlink\">\n<g id=\"graph0\" class=\"graph\" transform=\"scale(1 1) rotate(0) translate(4 199)\">\n<polygon fill=\"white\" stroke=\"transparent\" points=\"-4,4 -4,-199 304.59,-199 304.59,4 -4,4\"/>\n<!-- fe607a69&#45;ce43&#45;49ba&#45;93fa&#45;7198e70c54f0 -->\n<g id=\"node1\" class=\"node\">\n<title>fe607a69&#45;ce43&#45;49ba&#45;93fa&#45;7198e70c54f0</title>\n<g id=\"a_node1\"><a xlink:title=\".\">\n<ellipse fill=\"black\" stroke=\"black\" cx=\"1.8\" cy=\"-78.5\" rx=\"1.8\" ry=\"1.8\"/>\n</a>\n</g>\n</g>\n<!-- q0 -->\n<g id=\"node2\" class=\"node\">\n<title>q0</title>\n<ellipse fill=\"none\" stroke=\"black\" cx=\"60.1\" cy=\"-78.5\" rx=\"19.5\" ry=\"19.5\"/>\n<text text-anchor=\"middle\" x=\"60.1\" y=\"-74.8\" font-family=\"Times,serif\" font-size=\"14.00\">q0</text>\n</g>\n<!-- fe607a69&#45;ce43&#45;49ba&#45;93fa&#45;7198e70c54f0&#45;&gt;q0 -->\n<g id=\"edge1\" class=\"edge\">\n<title>fe607a69&#45;ce43&#45;49ba&#45;93fa&#45;7198e70c54f0&#45;&gt;q0</title>\n<g id=\"a_edge1\"><a xlink:title=\"&#45;&gt;q0\">\n<path fill=\"none\" stroke=\"black\" d=\"M3.78,-78.5C7.28,-78.5 19.64,-78.5 31.78,-78.5\"/>\n<polygon fill=\"black\" stroke=\"black\" points=\"31.96,-81.48 40.46,-78.5 31.96,-75.53 31.96,-81.48\"/>\n</a>\n</g>\n</g>\n<!-- q3 -->\n<g id=\"node3\" class=\"node\">\n<title>q3</title>\n<ellipse fill=\"none\" stroke=\"black\" cx=\"164.09\" cy=\"-124.5\" rx=\"19.5\" ry=\"19.5\"/>\n<text text-anchor=\"middle\" x=\"164.09\" y=\"-120.8\" font-family=\"Times,serif\" font-size=\"14.00\">q3</text>\n</g>\n<!-- q0&#45;&gt;q3 -->\n<g id=\"edge2\" class=\"edge\">\n<title>q0&#45;&gt;q3</title>\n<path fill=\"none\" stroke=\"#bfff00\" stroke-width=\"2.5\" d=\"M78.4,-86.3C94.84,-93.72 119.73,-104.94 138.28,-113.31\"/>\n<polygon fill=\"#bfff00\" stroke=\"#bfff00\" stroke-width=\"2.5\" points=\"137.08,-116.03 146.05,-116.81 139.52,-110.61 137.08,-116.03\"/>\n<text text-anchor=\"start\" x=\"97.6\" y=\"-111.3\" font-family=\"Times,serif\" font-size=\"14.00\">ε </text>\n<text text-anchor=\"start\" x=\"107.6\" y=\"-111.3\" font-family=\"Times,serif\" font-weight=\"bold\" font-size=\"14.00\">[</text>\n<text text-anchor=\"start\" x=\"112.6\" y=\"-111.3\" font-family=\"Times,serif\" font-weight=\"bold\" font-style=\"italic\" font-size=\"14.00\">#1</text>\n</g>\n<!-- q1 -->\n<g id=\"node4\" class=\"node\">\n<title>q1</title>\n<ellipse fill=\"none\" stroke=\"black\" cx=\"164.09\" cy=\"-33.5\" rx=\"19.5\" ry=\"19.5\"/>\n<text text-anchor=\"middle\" x=\"164.09\" y=\"-29.8\" font-family=\"Times,serif\" font-size=\"14.00\">q1</text>\n</g>\n<!-- q0&#45;&gt;q1 -->\n<g id=\"edge3\" class=\"edge\">\n<title>q0&#45;&gt;q1</title>\n<path fill=\"none\" stroke=\"black\" d=\"M78.4,-70.87C94.76,-63.65 119.5,-52.73 138.03,-44.56\"/>\n<polygon fill=\"black\" stroke=\"black\" points=\"139.47,-47.17 146.05,-41.02 137.07,-41.73 139.47,-47.17\"/>\n<text text-anchor=\"middle\" x=\"112.1\" y=\"-65.3\" font-family=\"Times,serif\" font-size=\"14.00\">ε</text>\n</g>\n<!-- q3&#45;&gt;q3 -->\n<g id=\"edge4\" class=\"edge\">\n<title>q3&#45;&gt;q3</title>\n<path fill=\"none\" stroke=\"#80ff00\" stroke-width=\"2.5\" d=\"M159.55,-143.79C158.92,-153.41 160.43,-162 164.09,-162 166.56,-162 168.05,-158.12 168.57,-152.66\"/>\n<polygon fill=\"#80ff00\" stroke=\"#80ff00\" stroke-width=\"2.5\" points=\"171.55,-152.32 168.64,-143.79 165.6,-152.27 171.55,-152.32\"/>\n<text text-anchor=\"start\" x=\"149.09\" y=\"-166.8\" font-family=\"Times,serif\" font-size=\"14.00\">1 </text>\n<text text-anchor=\"start\" x=\"160.09\" y=\"-166.8\" font-family=\"Times,serif\" font-weight=\"bold\" font-size=\"14.00\">[</text>\n<text text-anchor=\"start\" x=\"165.09\" y=\"-166.8\" font-family=\"Times,serif\" font-weight=\"bold\" font-style=\"italic\" font-size=\"14.00\">#2</text>\n</g>\n<!-- q3&#45;&gt;q3 -->\n<g id=\"edge5\" class=\"edge\">\n<title>q3&#45;&gt;q3</title>\n<path fill=\"none\" stroke=\"#40ff00\" stroke-width=\"2.5\" d=\"M156.64,-142.69C152.53,-160.47 155.01,-180 164.09,-180 171.76,-180 174.72,-166.09 172.99,-151.07\"/>\n<polygon fill=\"#40ff00\" stroke=\"#40ff00\" stroke-width=\"2.5\" points=\"175.92,-150.56 171.54,-142.69 170.06,-151.57 175.92,-150.56\"/>\n<text text-anchor=\"start\" x=\"149.09\" y=\"-184.8\" font-family=\"Times,serif\" font-size=\"14.00\">1 </text>\n<text text-anchor=\"start\" x=\"160.09\" y=\"-184.8\" font-family=\"Times,serif\" font-weight=\"bold\" font-size=\"14.00\">[</text>\n<text text-anchor=\"start\" x=\"165.09\" y=\"-184.8\" font-family=\"Times,serif\" font-weight=\"bold\" font-style=\"italic\" font-size=\"14.00\">#3</text>\n</g>\n<!-- q4 -->\n<g id=\"node5\" class=\"node\">\n<title>q4</title>\n<ellipse fill=\"none\" stroke=\"black\" cx=\"273.09\" cy=\"-125.5\" rx=\"23.5\" ry=\"23.5\"/>\n<ellipse fill=\"none\" stroke=\"black\" cx=\"273.09\" cy=\"-125.5\" rx=\"27.5\" ry=\"27.5\"/>\n<text text-anchor=\"middle\" x=\"273.09\" y=\"-121.8\" font-family=\"Times,serif\" font-size=\"14.00\">q4</text>\n</g>\n<!-- q3&#45;&gt;q4 -->\n<g id=\"edge6\" class=\"edge\">\n<title>q3&#45;&gt;q4</title>\n<path fill=\"none\" stroke=\"#00ff00\" stroke-width=\"2.5\" d=\"M183.73,-124.67C199.48,-124.82 222.36,-125.03 240.89,-125.21\"/>\n<polygon fill=\"#00ff00\" stroke=\"#00ff00\" stroke-width=\"2.5\" points=\"241.06,-128.19 249.59,-125.29 241.12,-122.24 241.06,-128.19\"/>\n<text text-anchor=\"start\" x=\"201.59\" y=\"-129.3\" font-family=\"Times,serif\" font-size=\"14.00\">0 </text>\n<text text-anchor=\"start\" x=\"212.59\" y=\"-129.3\" font-family=\"Times,serif\" font-weight=\"bold\" font-size=\"14.00\">[</text>\n<text text-anchor=\"start\" x=\"217.59\" y=\"-129.3\" font-family=\"Times,serif\" font-weight=\"bold\" font-style=\"italic\" font-size=\"14.00\">#4</text>\n</g>\n<!-- q1&#45;&gt;q1 -->\n<g id=\"edge7\" class=\"edge\">\n<title>q1&#45;&gt;q1</title>\n<path fill=\"none\" stroke=\"black\" d=\"M155.23,-51.25C153.43,-61.48 156.38,-71 164.09,-71 169.52,-71 172.59,-66.29 173.31,-59.94\"/>\n<polygon fill=\"black\" stroke=\"black\" points=\"176.27,-59.62 172.95,-51.25 170.33,-59.86 176.27,-59.62\"/>\n<text text-anchor=\"middle\" x=\"164.09\" y=\"-74.8\" font-family=\"Times,serif\" font-size=\"14.00\">0</text>\n</g>\n<!-- q2 -->\n<g id=\"node6\" class=\"node\">\n<title>q2</title>\n<ellipse fill=\"none\" stroke=\"black\" cx=\"273.09\" cy=\"-27.5\" rx=\"23.5\" ry=\"23.5\"/>\n<ellipse fill=\"none\" stroke=\"black\" cx=\"273.09\" cy=\"-27.5\" rx=\"27.5\" ry=\"27.5\"/>\n<text text-anchor=\"middle\" x=\"273.09\" y=\"-23.8\" font-family=\"Times,serif\" font-size=\"14.00\">q2</text>\n</g>\n<!-- q1&#45;&gt;q2 -->\n<g id=\"edge8\" class=\"edge\">\n<title>q1&#45;&gt;q2</title>\n<path fill=\"none\" stroke=\"black\" d=\"M183.73,-32.45C199.48,-31.57 222.36,-30.29 240.89,-29.25\"/>\n<polygon fill=\"black\" stroke=\"black\" points=\"241.27,-32.21 249.59,-28.76 240.94,-26.27 241.27,-32.21\"/>\n<text text-anchor=\"middle\" x=\"216.59\" y=\"-35.3\" font-family=\"Times,serif\" font-size=\"14.00\">1</text>\n</g>\n<!-- q4&#45;&gt;q4 -->\n<g id=\"edge9\" class=\"edge\">\n<title>q4&#45;&gt;q4</title>\n<path fill=\"none\" stroke=\"black\" d=\"M262.9,-146.85C261.49,-157.5 264.89,-167 273.09,-167 278.99,-167 282.4,-162.09 283.33,-155.38\"/>\n<polygon fill=\"black\" stroke=\"black\" points=\"286.3,-155.33 283.28,-146.85 280.35,-155.37 286.3,-155.33\"/>\n<text text-anchor=\"middle\" x=\"273.09\" y=\"-170.8\" font-family=\"Times,serif\" font-size=\"14.00\">0</text>\n</g>\n<!-- q2&#45;&gt;q2 -->\n<g id=\"edge10\" class=\"edge\">\n<title>q2&#45;&gt;q2</title>\n<path fill=\"none\" stroke=\"black\" d=\"M262.9,-48.85C261.49,-59.5 264.89,-69 273.09,-69 278.99,-69 282.4,-64.09 283.33,-57.38\"/>\n<polygon fill=\"black\" stroke=\"black\" points=\"286.3,-57.33 283.28,-48.85 280.35,-57.37 286.3,-57.33\"/>\n<text text-anchor=\"middle\" x=\"273.09\" y=\"-72.8\" font-family=\"Times,serif\" font-size=\"14.00\">1</text>\n</g>\n</g>\n</svg>\n",
            "text/plain": [
              "<AGraph <Swig Object of type 'Agraph_t *' at 0x7a8b7165e2b0>>"
            ]
          },
          "metadata": {},
          "execution_count": 50
        }
      ]
    },
    {
      "cell_type": "code",
      "source": [
        "# Não aceita\n",
        "cadeia='1101'\n",
        "gen = nfa01.read_input_stepwise(cadeia)\n",
        "print_rastreamento(gen,nfa01,cadeia)\n",
        "nfa01.show_diagram(cadeia)"
      ],
      "metadata": {
        "colab": {
          "base_uri": "https://localhost:8080/",
          "height": 396
        },
        "id": "7oM1_EakOddX",
        "outputId": "1057bda5-88a8-4ab1-ca42-06fb57c35da0"
      },
      "execution_count": 51,
      "outputs": [
        {
          "output_type": "stream",
          "name": "stdout",
          "text": [
            "Rastreamento de todos os estados alcançados:\n",
            "δ({'q3', 'q1', 'q0'},1) -> {'q2', 'q3'}\n",
            "δ({'q2', 'q3'},1) -> {'q3', 'q2'}\n",
            "δ({'q3', 'q2'},0) -> {'q4'}\n",
            "δ({'q4'},1) -> set()\n",
            "\n"
          ]
        },
        {
          "output_type": "execute_result",
          "data": {
            "image/svg+xml": "<?xml version=\"1.0\" encoding=\"UTF-8\" standalone=\"no\"?>\n<!DOCTYPE svg PUBLIC \"-//W3C//DTD SVG 1.1//EN\"\n \"http://www.w3.org/Graphics/SVG/1.1/DTD/svg11.dtd\">\n<!-- Generated by graphviz version 2.43.0 (0)\n -->\n<!-- Pages: 1 -->\n<svg width=\"309pt\" height=\"203pt\"\n viewBox=\"0.00 0.00 308.59 203.00\" xmlns=\"http://www.w3.org/2000/svg\" xmlns:xlink=\"http://www.w3.org/1999/xlink\">\n<g id=\"graph0\" class=\"graph\" transform=\"scale(1 1) rotate(0) translate(4 199)\">\n<polygon fill=\"white\" stroke=\"transparent\" points=\"-4,4 -4,-199 304.59,-199 304.59,4 -4,4\"/>\n<!-- f6c55e1d&#45;4148&#45;4f43&#45;97c6&#45;f8abe8c5fafe -->\n<g id=\"node1\" class=\"node\">\n<title>f6c55e1d&#45;4148&#45;4f43&#45;97c6&#45;f8abe8c5fafe</title>\n<g id=\"a_node1\"><a xlink:title=\".\">\n<ellipse fill=\"black\" stroke=\"black\" cx=\"1.8\" cy=\"-78.5\" rx=\"1.8\" ry=\"1.8\"/>\n</a>\n</g>\n</g>\n<!-- q0 -->\n<g id=\"node2\" class=\"node\">\n<title>q0</title>\n<ellipse fill=\"none\" stroke=\"black\" cx=\"60.1\" cy=\"-78.5\" rx=\"19.5\" ry=\"19.5\"/>\n<text text-anchor=\"middle\" x=\"60.1\" y=\"-74.8\" font-family=\"Times,serif\" font-size=\"14.00\">q0</text>\n</g>\n<!-- f6c55e1d&#45;4148&#45;4f43&#45;97c6&#45;f8abe8c5fafe&#45;&gt;q0 -->\n<g id=\"edge1\" class=\"edge\">\n<title>f6c55e1d&#45;4148&#45;4f43&#45;97c6&#45;f8abe8c5fafe&#45;&gt;q0</title>\n<g id=\"a_edge1\"><a xlink:title=\"&#45;&gt;q0\">\n<path fill=\"none\" stroke=\"black\" d=\"M3.78,-78.5C7.28,-78.5 19.64,-78.5 31.78,-78.5\"/>\n<polygon fill=\"black\" stroke=\"black\" points=\"31.96,-81.48 40.46,-78.5 31.96,-75.53 31.96,-81.48\"/>\n</a>\n</g>\n</g>\n<!-- q3 -->\n<g id=\"node3\" class=\"node\">\n<title>q3</title>\n<ellipse fill=\"none\" stroke=\"black\" cx=\"164.09\" cy=\"-124.5\" rx=\"19.5\" ry=\"19.5\"/>\n<text text-anchor=\"middle\" x=\"164.09\" y=\"-120.8\" font-family=\"Times,serif\" font-size=\"14.00\">q3</text>\n</g>\n<!-- q0&#45;&gt;q3 -->\n<g id=\"edge2\" class=\"edge\">\n<title>q0&#45;&gt;q3</title>\n<path fill=\"none\" stroke=\"#ffbf00\" stroke-width=\"2.5\" d=\"M78.4,-86.3C94.84,-93.72 119.73,-104.94 138.28,-113.31\"/>\n<polygon fill=\"#ffbf00\" stroke=\"#ffbf00\" stroke-width=\"2.5\" points=\"137.08,-116.03 146.05,-116.81 139.52,-110.61 137.08,-116.03\"/>\n<text text-anchor=\"start\" x=\"97.6\" y=\"-111.3\" font-family=\"Times,serif\" font-size=\"14.00\">ε </text>\n<text text-anchor=\"start\" x=\"107.6\" y=\"-111.3\" font-family=\"Times,serif\" font-weight=\"bold\" font-size=\"14.00\">[</text>\n<text text-anchor=\"start\" x=\"112.6\" y=\"-111.3\" font-family=\"Times,serif\" font-weight=\"bold\" font-style=\"italic\" font-size=\"14.00\">#1</text>\n</g>\n<!-- q1 -->\n<g id=\"node4\" class=\"node\">\n<title>q1</title>\n<ellipse fill=\"none\" stroke=\"black\" cx=\"164.09\" cy=\"-33.5\" rx=\"19.5\" ry=\"19.5\"/>\n<text text-anchor=\"middle\" x=\"164.09\" y=\"-29.8\" font-family=\"Times,serif\" font-size=\"14.00\">q1</text>\n</g>\n<!-- q0&#45;&gt;q1 -->\n<g id=\"edge3\" class=\"edge\">\n<title>q0&#45;&gt;q1</title>\n<path fill=\"none\" stroke=\"black\" d=\"M78.4,-70.87C94.76,-63.65 119.5,-52.73 138.03,-44.56\"/>\n<polygon fill=\"black\" stroke=\"black\" points=\"139.47,-47.17 146.05,-41.02 137.07,-41.73 139.47,-47.17\"/>\n<text text-anchor=\"middle\" x=\"112.1\" y=\"-65.3\" font-family=\"Times,serif\" font-size=\"14.00\">ε</text>\n</g>\n<!-- q3&#45;&gt;q3 -->\n<g id=\"edge4\" class=\"edge\">\n<title>q3&#45;&gt;q3</title>\n<path fill=\"none\" stroke=\"#ff8000\" stroke-width=\"2.5\" d=\"M159.55,-143.79C158.92,-153.41 160.43,-162 164.09,-162 166.56,-162 168.05,-158.12 168.57,-152.66\"/>\n<polygon fill=\"#ff8000\" stroke=\"#ff8000\" stroke-width=\"2.5\" points=\"171.55,-152.32 168.64,-143.79 165.6,-152.27 171.55,-152.32\"/>\n<text text-anchor=\"start\" x=\"149.09\" y=\"-166.8\" font-family=\"Times,serif\" font-size=\"14.00\">1 </text>\n<text text-anchor=\"start\" x=\"160.09\" y=\"-166.8\" font-family=\"Times,serif\" font-weight=\"bold\" font-size=\"14.00\">[</text>\n<text text-anchor=\"start\" x=\"165.09\" y=\"-166.8\" font-family=\"Times,serif\" font-weight=\"bold\" font-style=\"italic\" font-size=\"14.00\">#2</text>\n</g>\n<!-- q3&#45;&gt;q3 -->\n<g id=\"edge5\" class=\"edge\">\n<title>q3&#45;&gt;q3</title>\n<path fill=\"none\" stroke=\"#ff4000\" stroke-width=\"2.5\" d=\"M156.64,-142.69C152.53,-160.47 155.01,-180 164.09,-180 171.76,-180 174.72,-166.09 172.99,-151.07\"/>\n<polygon fill=\"#ff4000\" stroke=\"#ff4000\" stroke-width=\"2.5\" points=\"175.92,-150.56 171.54,-142.69 170.06,-151.57 175.92,-150.56\"/>\n<text text-anchor=\"start\" x=\"149.09\" y=\"-184.8\" font-family=\"Times,serif\" font-size=\"14.00\">1 </text>\n<text text-anchor=\"start\" x=\"160.09\" y=\"-184.8\" font-family=\"Times,serif\" font-weight=\"bold\" font-size=\"14.00\">[</text>\n<text text-anchor=\"start\" x=\"165.09\" y=\"-184.8\" font-family=\"Times,serif\" font-weight=\"bold\" font-style=\"italic\" font-size=\"14.00\">#3</text>\n</g>\n<!-- q4 -->\n<g id=\"node5\" class=\"node\">\n<title>q4</title>\n<ellipse fill=\"none\" stroke=\"black\" cx=\"273.09\" cy=\"-125.5\" rx=\"23.5\" ry=\"23.5\"/>\n<ellipse fill=\"none\" stroke=\"black\" cx=\"273.09\" cy=\"-125.5\" rx=\"27.5\" ry=\"27.5\"/>\n<text text-anchor=\"middle\" x=\"273.09\" y=\"-121.8\" font-family=\"Times,serif\" font-size=\"14.00\">q4</text>\n</g>\n<!-- q3&#45;&gt;q4 -->\n<g id=\"edge6\" class=\"edge\">\n<title>q3&#45;&gt;q4</title>\n<path fill=\"none\" stroke=\"#ff0000\" stroke-width=\"2.5\" d=\"M183.73,-124.67C199.48,-124.82 222.36,-125.03 240.89,-125.21\"/>\n<polygon fill=\"#ff0000\" stroke=\"#ff0000\" stroke-width=\"2.5\" points=\"241.06,-128.19 249.59,-125.29 241.12,-122.24 241.06,-128.19\"/>\n<text text-anchor=\"start\" x=\"201.59\" y=\"-129.3\" font-family=\"Times,serif\" font-size=\"14.00\">0 </text>\n<text text-anchor=\"start\" x=\"212.59\" y=\"-129.3\" font-family=\"Times,serif\" font-weight=\"bold\" font-size=\"14.00\">[</text>\n<text text-anchor=\"start\" x=\"217.59\" y=\"-129.3\" font-family=\"Times,serif\" font-weight=\"bold\" font-style=\"italic\" font-size=\"14.00\">#4</text>\n</g>\n<!-- q1&#45;&gt;q1 -->\n<g id=\"edge7\" class=\"edge\">\n<title>q1&#45;&gt;q1</title>\n<path fill=\"none\" stroke=\"black\" d=\"M155.23,-51.25C153.43,-61.48 156.38,-71 164.09,-71 169.52,-71 172.59,-66.29 173.31,-59.94\"/>\n<polygon fill=\"black\" stroke=\"black\" points=\"176.27,-59.62 172.95,-51.25 170.33,-59.86 176.27,-59.62\"/>\n<text text-anchor=\"middle\" x=\"164.09\" y=\"-74.8\" font-family=\"Times,serif\" font-size=\"14.00\">0</text>\n</g>\n<!-- q2 -->\n<g id=\"node6\" class=\"node\">\n<title>q2</title>\n<ellipse fill=\"none\" stroke=\"black\" cx=\"273.09\" cy=\"-27.5\" rx=\"23.5\" ry=\"23.5\"/>\n<ellipse fill=\"none\" stroke=\"black\" cx=\"273.09\" cy=\"-27.5\" rx=\"27.5\" ry=\"27.5\"/>\n<text text-anchor=\"middle\" x=\"273.09\" y=\"-23.8\" font-family=\"Times,serif\" font-size=\"14.00\">q2</text>\n</g>\n<!-- q1&#45;&gt;q2 -->\n<g id=\"edge8\" class=\"edge\">\n<title>q1&#45;&gt;q2</title>\n<path fill=\"none\" stroke=\"black\" d=\"M183.73,-32.45C199.48,-31.57 222.36,-30.29 240.89,-29.25\"/>\n<polygon fill=\"black\" stroke=\"black\" points=\"241.27,-32.21 249.59,-28.76 240.94,-26.27 241.27,-32.21\"/>\n<text text-anchor=\"middle\" x=\"216.59\" y=\"-35.3\" font-family=\"Times,serif\" font-size=\"14.00\">1</text>\n</g>\n<!-- q4&#45;&gt;q4 -->\n<g id=\"edge9\" class=\"edge\">\n<title>q4&#45;&gt;q4</title>\n<path fill=\"none\" stroke=\"black\" d=\"M262.9,-146.85C261.49,-157.5 264.89,-167 273.09,-167 278.99,-167 282.4,-162.09 283.33,-155.38\"/>\n<polygon fill=\"black\" stroke=\"black\" points=\"286.3,-155.33 283.28,-146.85 280.35,-155.37 286.3,-155.33\"/>\n<text text-anchor=\"middle\" x=\"273.09\" y=\"-170.8\" font-family=\"Times,serif\" font-size=\"14.00\">0</text>\n</g>\n<!-- q2&#45;&gt;q2 -->\n<g id=\"edge10\" class=\"edge\">\n<title>q2&#45;&gt;q2</title>\n<path fill=\"none\" stroke=\"black\" d=\"M262.9,-48.85C261.49,-59.5 264.89,-69 273.09,-69 278.99,-69 282.4,-64.09 283.33,-57.38\"/>\n<polygon fill=\"black\" stroke=\"black\" points=\"286.3,-57.33 283.28,-48.85 280.35,-57.37 286.3,-57.33\"/>\n<text text-anchor=\"middle\" x=\"273.09\" y=\"-72.8\" font-family=\"Times,serif\" font-size=\"14.00\">1</text>\n</g>\n</g>\n</svg>\n",
            "text/plain": [
              "<AGraph <Swig Object of type 'Agraph_t *' at 0x7a8bbc1f7840>>"
            ]
          },
          "metadata": {},
          "execution_count": 51
        }
      ]
    }
  ]
}
